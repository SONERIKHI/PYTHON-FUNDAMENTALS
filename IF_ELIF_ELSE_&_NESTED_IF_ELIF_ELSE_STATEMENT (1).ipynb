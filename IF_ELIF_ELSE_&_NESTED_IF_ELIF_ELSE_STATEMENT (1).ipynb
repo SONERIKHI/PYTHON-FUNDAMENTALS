{
  "nbformat": 4,
  "nbformat_minor": 0,
  "metadata": {
    "colab": {
      "provenance": []
    },
    "kernelspec": {
      "name": "python3",
      "display_name": "Python 3"
    },
    "language_info": {
      "name": "python"
    }
  },
  "cells": [
    {
      "cell_type": "markdown",
      "source": [
        "### PROGRAM THAT TAKES A NUMBER AND CHECKS WHETHER THE GIVEN NUMBER IS EVEN AND ODD."
      ],
      "metadata": {
        "id": "3mLniSi78o0C"
      }
    },
    {
      "cell_type": "code",
      "source": [
        "a = int(input(\"enter an integer: \"))\n",
        "if a%2==0:\n",
        "  print(a,\": is EVEN NUMBER\")\n",
        "else:\n",
        "  print(a,\": is ODD NUMBER\")"
      ],
      "metadata": {
        "colab": {
          "base_uri": "https://localhost:8080/"
        },
        "id": "YOFBL9XI81ne",
        "outputId": "6a07ea4f-7d42-4661-f739-7d32e56f94ca"
      },
      "execution_count": null,
      "outputs": [
        {
          "output_type": "stream",
          "name": "stdout",
          "text": [
            "enter an integer: 16\n",
            "16 : is EVEN NUMBER\n"
          ]
        }
      ]
    },
    {
      "cell_type": "markdown",
      "source": [
        "### PROGRAM TO ACCEPT THREE INTEGERS AND PRINT THE LARGEST OF THE THREE. MAKE USE OF ONLY IF STATEMENT."
      ],
      "metadata": {
        "id": "-cmHUBrY-ULd"
      }
    },
    {
      "cell_type": "code",
      "source": [
        "x=y=z=0\n",
        "x = float(input(\"enter the number: \"))\n",
        "y = float(input(\"enter the number: \"))\n",
        "z = float(input(\"enter the number: \"))\n",
        "max = x\n",
        "if y > max:\n",
        "  max = y\n",
        "if z > max:\n",
        "  max = z\n",
        "print(\"Largest number is\", max)"
      ],
      "metadata": {
        "colab": {
          "base_uri": "https://localhost:8080/"
        },
        "id": "JiuCspUR-uCB",
        "outputId": "8d2d489c-7665-46ab-f9dd-631fe2ea7fff"
      },
      "execution_count": null,
      "outputs": [
        {
          "output_type": "stream",
          "name": "stdout",
          "text": [
            "enter the number: 45.75\n",
            "enter the number: 56.43\n",
            "enter the number: 27.84\n",
            "Largest number is 56.43\n"
          ]
        }
      ]
    },
    {
      "cell_type": "markdown",
      "source": [
        "### PROGRAM THAT INPUTS THREE NUMBERS AND CALCULATES TWO SUMS AS PER THIS:\n",
        "### SUM1 as the sum of all input numbers\n",
        "### SUM2 as the sum of non-duplicate numbers; if there are duplicate numbers in the input, ignores them"
      ],
      "metadata": {
        "id": "5o0IiZtMAEe8"
      }
    },
    {
      "cell_type": "code",
      "source": [
        "sum1 = sum2 = 0\n",
        "a = int(input(\"enter the number 1: \"))\n",
        "b = int(input(\"enter the number 2: \"))\n",
        "c = int(input(\"enter the number 3: \"))\n",
        "sum1 = a + b + c\n",
        "if a == b:\n",
        "  if c != a:\n",
        "    sum2 += c\n",
        "  else:\n",
        "    if a == c:\n",
        "      sum2 += b\n",
        "    else:\n",
        "      if b == c:\n",
        "        sum2 += a\n",
        "      else:\n",
        "        sum2 += a+b+c\n",
        "print(\"numbers are\", a,b,c)\n",
        "print(\"sum of three given numbers is\", sum1)\n",
        "print(\"sum of non-duplicate number is\", sum2)"
      ],
      "metadata": {
        "colab": {
          "base_uri": "https://localhost:8080/"
        },
        "id": "kB4cOLdSB1sB",
        "outputId": "a06703c7-7fe9-465a-886c-f5551f0a0948"
      },
      "execution_count": null,
      "outputs": [
        {
          "output_type": "stream",
          "name": "stdout",
          "text": [
            "enter the number 1: 4\n",
            "enter the number 2: 6\n",
            "enter the number 3: 3\n",
            "numbers are 4 6 3\n",
            "sum of three given numbers is 13\n",
            "sum of non-duplicate number is 0\n"
          ]
        }
      ]
    },
    {
      "cell_type": "markdown",
      "source": [
        "### PROGRAM TO TEST THE DIVISILITY OF A NUMBER WITH ANOTHER NUMBER(i.e. if a number is divisible by another number)"
      ],
      "metadata": {
        "id": "poJ3s4DGKQGd"
      }
    },
    {
      "cell_type": "code",
      "source": [
        "from binascii import b2a_base64\n",
        "a = int(input(\"enter first number: \"))\n",
        "b = int(input(\"enter second number: \"))\n",
        "remainder = a%b\n",
        "if remainder == 0:\n",
        "  print(a,\"is divisible by\",b)\n",
        "else:\n",
        "  print(a,\"is not divisible by\",b)"
      ],
      "metadata": {
        "colab": {
          "base_uri": "https://localhost:8080/"
        },
        "id": "oqx3q6xsKuQZ",
        "outputId": "a9a0f31c-e519-490d-a2f1-90a582e0f2ab"
      },
      "execution_count": null,
      "outputs": [
        {
          "output_type": "stream",
          "name": "stdout",
          "text": [
            "enter first number: 7\n",
            "enter second number: 6\n",
            "7 is not divisible by 6\n"
          ]
        }
      ]
    },
    {
      "cell_type": "markdown",
      "source": [
        "### PROGRAM TO FIND THE MULTIPLES OF A NUMBER (the divisor) OUT OF GIVEN FIVE NUMBER "
      ],
      "metadata": {
        "id": "ZzDs0RTRLuZt"
      }
    },
    {
      "cell_type": "code",
      "source": [
        "print(\"enter five numbers below\")\n",
        "a = float(input(\"First Number: \"))\n",
        "b = float(input(\"Second Number: \"))\n",
        "c = float(input(\"Third Number: \"))\n",
        "d = float(input(\"Fouth Number: \"))\n",
        "e = float(input(\"Fivth Number: \"))\n",
        "divisor = float(input(\"Enter divisor number: \"))\n",
        "count = 0\n",
        "print(\"Multiples of\", divisor, \"are: \")\n",
        "remainder = a % divisor\n",
        "if remainder == 0:\n",
        "  print(a,sep=\" \")\n",
        "  count += 1\n",
        "remainder = b % divisor\n",
        "if remainder == 0:\n",
        "  print(b,sep=\" \")\n",
        "  count += 1==\n",
        "remainder = c % divisor\n",
        "if remainder == 0:\n",
        "  print(c,sep=\" \")\n",
        "  count += 1\n",
        "remainder = d % divisor\n",
        "if remainder == 0:\n",
        "  print(divmod,sep=\" \")\n",
        "  count += 1\n",
        "remainder = e % divisor\n",
        "if remainder == 0:\n",
        "  print(e,sep=\" \")\n",
        "  count += 1\n",
        "print()\n",
        "print(count,\"multipler of\", divisor,\"found1\")"
      ],
      "metadata": {
        "colab": {
          "base_uri": "https://localhost:8080/"
        },
        "id": "6WtpD7CMB6b3",
        "outputId": "1a53b04b-4114-40f8-ca99-c426e846842b"
      },
      "execution_count": null,
      "outputs": [
        {
          "output_type": "stream",
          "name": "stdout",
          "text": [
            "enter five numbers below\n",
            "First Number: 185\n",
            "Second Number: 3450\n",
            "Third Number: 1235\n",
            "Fouth Number: 1100\n",
            "Fivth Number: 905\n",
            "Enter divisor number: 15\n",
            "Multiples of 15.0 are: \n",
            "3450.0\n",
            "\n",
            "1 multipler of 15.0 found\n"
          ]
        }
      ]
    },
    {
      "cell_type": "markdown",
      "source": [
        "### PROGRAM TO DISPLAY A MENU FOR CALCULATING AREA OF A CIRCLE OR PERIMETER OF A CIRCLE."
      ],
      "metadata": {
        "id": "85XwlxRN2AUp"
      }
    },
    {
      "cell_type": "code",
      "source": [
        "radius = float(input(\"enter radius of the circle: \"))\n",
        "print(\"1. Calculate Area\")\n",
        "print(\"2. Calculate Perimeter\")\n",
        "choice = int(input(\"enter your choice(1 or 2): \"))\n",
        "if choice == 1:\n",
        "  area = 3.14*radius**2\n",
        "  print(\"area of circle with radius\", radius,'is',area)\n",
        "else:\n",
        "  perimeter = 2*314*radius\n",
        "  print(\"Perimeter of circle with radius\",radius,'is',perimeter)"
      ],
      "metadata": {
        "colab": {
          "base_uri": "https://localhost:8080/"
        },
        "id": "Mihg3akJ2P7O",
        "outputId": "9b85ef03-6cce-4b28-c772-86b2db3a5e45"
      },
      "execution_count": null,
      "outputs": [
        {
          "output_type": "stream",
          "name": "stdout",
          "text": [
            "enter radius of the circle: 2.5\n",
            "1. Calculate Area\n",
            "2. Calculate Perimeter\n",
            "enter your choice(1 or 2): 1\n",
            "area of circle with radius 2.5 is 19.625\n"
          ]
        }
      ]
    },
    {
      "cell_type": "code",
      "source": [
        "radius = float(input(\"enter radius of the circle: \"))\n",
        "print(\"1. Calculate Area\")\n",
        "print(\"2. Calculate Perimeter\")\n",
        "choice = int(input(\"enter your choice(1 or 2): \"))\n",
        "if choice == 1:\n",
        "  area = 3.14*radius**2\n",
        "  print(\"area of circle with radius\", radius,'is',area)\n",
        "else:\n",
        "  perimeter = 2*314*radius\n",
        "  print(\"Perimeter of circle with radius\",radius,'is',perimeter)"
      ],
      "metadata": {
        "colab": {
          "base_uri": "https://localhost:8080/"
        },
        "id": "jlbcZdqJCdcT",
        "outputId": "b41ed806-8b2c-4899-9490-9d92b0c491f5"
      },
      "execution_count": null,
      "outputs": [
        {
          "output_type": "stream",
          "name": "stdout",
          "text": [
            "enter radius of the circle: 2.5\n",
            "1. Calculate Area\n",
            "2. Calculate Perimeter\n",
            "enter your choice(1 or 2): 2\n",
            "Perimeter of circle with radius 2.5 is 1570.0\n"
          ]
        }
      ]
    },
    {
      "cell_type": "markdown",
      "source": [
        "### PROGRAM THAT READS TWO NUMBERS AND AN ARITHMETIC OPERATOR AND DISPLAYS THE COMPUTED RESULT."
      ],
      "metadata": {
        "id": "RIoz1v1KHKli"
      }
    },
    {
      "cell_type": "code",
      "source": [
        "a = float(input(\"enter first number: \"))\n",
        "b = float(input(\"enter second number: \"))\n",
        "op = input(\"enter operator[+-*/%]: \")\n",
        "result = 0\n",
        "if op == '+':\n",
        "  result = a + b\n",
        "elif op == '-':\n",
        "  result = a - b\n",
        "elif op == '*':\n",
        "  result = a*b\n",
        "elif op == '/':\n",
        "  result = a/b\n",
        "elif op == '%':\n",
        "  result = a%b\n",
        "else:\n",
        "  print(\"invalid operator!!\")\n",
        "print(a,op,b,'=',result)"
      ],
      "metadata": {
        "colab": {
          "base_uri": "https://localhost:8080/"
        },
        "id": "fIO9UqjKHbge",
        "outputId": "d0707aec-cdf2-4b97-a1f0-e1a2442650cd"
      },
      "execution_count": null,
      "outputs": [
        {
          "output_type": "stream",
          "name": "stdout",
          "text": [
            "enter first number: 5\n",
            "enter second number: 2\n",
            "enter operator[+-*/%]: *\n",
            "5.0 * 2.0 = 10.0\n"
          ]
        }
      ]
    },
    {
      "cell_type": "markdown",
      "source": [
        "### PROGRAM THAT READS THREE NUMBERS(INTEGERS) AND PRINTS THEM IN ASCENDING ORDER."
      ],
      "metadata": {
        "id": "ZaODD5k7LEfM"
      }
    },
    {
      "cell_type": "code",
      "source": [
        "x = int(input(\"enter first number: \"))\n",
        "y = int(input(\"enter second number: \"))\n",
        "z = int(input(\"enter third number: \"))\n",
        "min = mid = max = None\n",
        "if x<y and x<z:\n",
        "  if y<z:\n",
        "    min,mid,max = x,y,z\n",
        "  else:\n",
        "    min,mid,max = x,z,y\n",
        "elif y<x and y<z:\n",
        "  if y<x:\n",
        "    min,mid,max = y,x,z\n",
        "  else:\n",
        "    min,mid,max= y,z,x\n",
        "else: \n",
        "  if z<x:\n",
        "    min,mid,max = z,x,y\n",
        "  else:\n",
        "    min,mid,max = z,y,x\n",
        "print(\"number in ascending order: \", min,mid,max)\n"
      ],
      "metadata": {
        "colab": {
          "base_uri": "https://localhost:8080/"
        },
        "id": "D-itrMbELTAV",
        "outputId": "073c5414-d382-4876-8382-e76bfa64e683"
      },
      "execution_count": null,
      "outputs": [
        {
          "output_type": "stream",
          "name": "stdout",
          "text": [
            "enter first number: 9\n",
            "enter second number: 90\n",
            "enter third number: 19\n",
            "number in ascending order:  9 19 90\n"
          ]
        }
      ]
    }
  ]
}