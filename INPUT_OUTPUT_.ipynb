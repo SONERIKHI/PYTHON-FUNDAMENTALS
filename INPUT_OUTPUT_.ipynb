{
  "nbformat": 4,
  "nbformat_minor": 0,
  "metadata": {
    "colab": {
      "provenance": []
    },
    "kernelspec": {
      "name": "python3",
      "display_name": "Python 3"
    },
    "language_info": {
      "name": "python"
    }
  },
  "cells": [
    {
      "cell_type": "markdown",
      "source": [
        "## WRITE A PROGRAM TO INPUT A WELCOME MESSAGE AND PRINT IT."
      ],
      "metadata": {
        "id": "Efhjod7-sUpF"
      }
    },
    {
      "cell_type": "code",
      "source": [
        "message = input(\"enter the message\")\n",
        "print(\"HI\",message)"
      ],
      "metadata": {
        "colab": {
          "base_uri": "https://localhost:8080/"
        },
        "id": "QzumfzN9sgNG",
        "outputId": "58e85a37-bfee-4481-fc1d-07443e0c659d"
      },
      "execution_count": 1,
      "outputs": [
        {
          "output_type": "stream",
          "name": "stdout",
          "text": [
            "enter the messageMYSELF SONIA\n",
            "HI MYSELF SONIA\n"
          ]
        }
      ]
    },
    {
      "cell_type": "markdown",
      "source": [
        "## PROGRAM TO OBTAIN THREE NUMBERS AND PRINT THEIR SUM."
      ],
      "metadata": {
        "id": "6Td0p1SPtHQD"
      }
    },
    {
      "cell_type": "code",
      "source": [
        "a = int(input(\"enter the number 1: \"))\n",
        "b = int(input(\"enter the number 2: \"))\n",
        "c = int(input(\"enter the number 3: \"))\n",
        "sum = a+b+c\n",
        "sum"
      ],
      "metadata": {
        "colab": {
          "base_uri": "https://localhost:8080/"
        },
        "id": "ewr3vdVjtSPN",
        "outputId": "9e8ee788-0280-473a-e79a-9077a4c01d95"
      },
      "execution_count": 3,
      "outputs": [
        {
          "name": "stdout",
          "output_type": "stream",
          "text": [
            "enter the number 1: 3\n",
            "enter the number 2: 7\n",
            "enter the number 3: 8\n"
          ]
        },
        {
          "output_type": "execute_result",
          "data": {
            "text/plain": [
              "18"
            ]
          },
          "metadata": {},
          "execution_count": 3
        }
      ]
    },
    {
      "cell_type": "markdown",
      "source": [
        "## PROGRAM TO OBTAIN LENGTH AND BREADTH OF A RECTANGLE AND CALCULATE ITS AREA.\n"
      ],
      "metadata": {
        "id": "wbmCgy51D576"
      }
    },
    {
      "cell_type": "code",
      "source": [
        "length = float(input(\"enter the length : \"))\n",
        "breadth = float(input(\"enter the breadth: \"))\n",
        "area = length * breadth\n",
        "area"
      ],
      "metadata": {
        "colab": {
          "base_uri": "https://localhost:8080/"
        },
        "id": "067gITmvEcoh",
        "outputId": "71d9c35f-a04c-46c1-f249-20e970713ba8"
      },
      "execution_count": 4,
      "outputs": [
        {
          "name": "stdout",
          "output_type": "stream",
          "text": [
            "enter the length : 5.6\n",
            "enter the breadth: 4.3\n"
          ]
        },
        {
          "output_type": "execute_result",
          "data": {
            "text/plain": [
              "24.08"
            ]
          },
          "metadata": {},
          "execution_count": 4
        }
      ]
    },
    {
      "cell_type": "markdown",
      "source": [
        "## Body Mass Index is a simple calculation using a person's height and weight.\n",
        "# The formula is BMI = kg/m^2 is their height in meters squared.\n",
        "\n",
        "\n",
        "### Program to calculate BMI of the person."
      ],
      "metadata": {
        "id": "rl7xZW-cFDAf"
      }
    },
    {
      "cell_type": "code",
      "source": [
        "weight = float(input(\"enter the weight: \"))\n",
        "height = float(input(\"enter the height: \"))\n",
        "BMI = weight/(height**2)\n",
        "BMI"
      ],
      "metadata": {
        "colab": {
          "base_uri": "https://localhost:8080/"
        },
        "id": "gL0nypq6F67t",
        "outputId": "7be69ffc-2641-4c31-9b6a-7d66e97ac452"
      },
      "execution_count": 5,
      "outputs": [
        {
          "name": "stdout",
          "output_type": "stream",
          "text": [
            "enter the weight: 67\n",
            "enter the height: 1.55\n"
          ]
        },
        {
          "output_type": "execute_result",
          "data": {
            "text/plain": [
              "27.887617065556707"
            ]
          },
          "metadata": {},
          "execution_count": 5
        }
      ]
    },
    {
      "cell_type": "markdown",
      "source": [
        "### WRITE A PROGRAM TO INPUT A NUMBER AND PRINT ITS CUBE. "
      ],
      "metadata": {
        "id": "4rwPhTv3I1u3"
      }
    },
    {
      "cell_type": "code",
      "source": [
        "a = float(input(\"enter the number: \"))\n",
        "cube = a**3\n",
        "cube"
      ],
      "metadata": {
        "colab": {
          "base_uri": "https://localhost:8080/"
        },
        "id": "nAKrOwY9aE-m",
        "outputId": "cad99ed9-24c9-4d0d-adee-8f388d01f433"
      },
      "execution_count": 6,
      "outputs": [
        {
          "name": "stdout",
          "output_type": "stream",
          "text": [
            "enter the number: 4\n"
          ]
        },
        {
          "output_type": "execute_result",
          "data": {
            "text/plain": [
              "64.0"
            ]
          },
          "metadata": {},
          "execution_count": 6
        }
      ]
    },
    {
      "cell_type": "markdown",
      "source": [
        "###WRITE A PROGRAM TO INPUT A VALUE IN KILOMETERS AND CONVERT IT INTO MILES(1 KM = 0.621371 MILES)"
      ],
      "metadata": {
        "id": "iwl7lllShQRk"
      }
    },
    {
      "cell_type": "code",
      "source": [
        "KM = float(input(\"enter the km: \"))\n",
        "miles = KM*.061371\n",
        "miles"
      ],
      "metadata": {
        "colab": {
          "base_uri": "https://localhost:8080/"
        },
        "id": "kVaSqDzyhk_Z",
        "outputId": "f578be1a-a7d1-4110-dec8-5714ca107b08"
      },
      "execution_count": 7,
      "outputs": [
        {
          "name": "stdout",
          "output_type": "stream",
          "text": [
            "enter the km: 4\n"
          ]
        },
        {
          "output_type": "execute_result",
          "data": {
            "text/plain": [
              "0.245484"
            ]
          },
          "metadata": {},
          "execution_count": 7
        }
      ]
    },
    {
      "cell_type": "markdown",
      "source": [
        "### write a program to input a value in tonnes and convert it into quintals and kilograms.(1 tonne = 10 quintals, 1 tonne = 1000kgs, 1 quintal = 100 kgs)"
      ],
      "metadata": {
        "id": "DT2RG8ndh65C"
      }
    },
    {
      "cell_type": "code",
      "source": [
        "tonnes = float(input(\"enter the number: \"))\n",
        "quintals = tonnes*10\n",
        "kgs = quintals*100\n",
        "quintals\n",
        "kgs"
      ],
      "metadata": {
        "colab": {
          "base_uri": "https://localhost:8080/"
        },
        "id": "4GUuxKcsifiR",
        "outputId": "88c51abf-8832-4883-9f23-b04fcd27a851"
      },
      "execution_count": 8,
      "outputs": [
        {
          "name": "stdout",
          "output_type": "stream",
          "text": [
            "enter the number: 24\n"
          ]
        },
        {
          "output_type": "execute_result",
          "data": {
            "text/plain": [
              "24000.0"
            ]
          },
          "metadata": {},
          "execution_count": 8
        }
      ]
    },
    {
      "cell_type": "markdown",
      "source": [
        "### write a program to enter a small poem or poem verse and print it.\n"
      ],
      "metadata": {
        "id": "FIurXHIvjEF8"
      }
    },
    {
      "cell_type": "code",
      "source": [
        "print(\"\"\"As morning broke on the opening day of war,\n",
        "the rising sun (as Sánjaya described it\n",
        "to the king) streaked the sky with scarlet.\n",
        "The heat slowly burned off the mist that hung\n",
        "over the plain. The opposing armies,\n",
        "division upon division, stretched away\n",
        "as far as the eye followed the curving earth.\n",
        "All was brilliant. The chariots of the princes\n",
        "and all the royal allies were resplendent\n",
        "with noble banners, each with its own emblem.\n",
        "One king’s standard carried a scarlet bull,\n",
        "another, a boar on a cloth of silver,\n",
        "others, bright flowers, stars, eagles, comets…\n",
        "the sight too dazzling to be taken in.\n",
        "Some kings were riding in their chariots\n",
        "others sat erect on the necks of elephants\n",
        "or on spirited horses, proudly wheeling.\n",
        "\n",
        "So much armour, on elephants, horses, men!\n",
        "The flashing gold and bronze rivalled the sun.\n",
        "The close-packed troops and beasts, constantly moving,\n",
        "glittered like a river thick with fish.\n",
        "\n",
        "Both armies were terrible, both beautiful.\n",
        "In both, men’s hearts were filled with joy and pride\n",
        "at being part of it – this huge event,\n",
        "this grand spectacle, this sacrifice,\n",
        "this, the well-trained warrior’s highest calling.\n",
        "Fear, suffering and grief would follow later.\n",
        "\n",
        "With the two armies facing one another,\n",
        "one east, one west; with ten thousand conches\n",
        "blaring out in challenge, the din of cymbals\n",
        "and the deep, heart-stopping throb of war drums,\n",
        "Arjuna said to Krishna, his charioteer,\n",
        "‘Drive the chariot into no-man’s-land\n",
        "so I can see, before the battle starts,\n",
        "the faces of the enemy I must kill.’\n",
        "\n",
        "Krishna did what Arjuna asked of him.\n",
        "\n",
        "And there, with every soldier tense and ready,\n",
        "with every horse straining at its yoke;\n",
        "there, in the moment before hell’s unleashing,\n",
        "with each blade whetted, every weapon honed;\n",
        "there, in the moment when the frenzy\n",
        "of preparation is over, and the din\n",
        "of death not yet begun – there, at that point\n",
        "in the relentless passage of events…\n",
        "\n",
        "time freezes.\n",
        "\n",
        "Arjuna sinks down in his chariot.\n",
        "His warrior’s heart has failed him.\n",
        "His eyes stream with tears, his limbs tremble,\n",
        "the bow, Gandíva, drops from his nerveless hand.\n",
        "The world holds its breath.\n",
        "\n",
        "For Karna, Kunti, for his brothers,\n",
        "for Krishna – for each differently – Arjuna\n",
        "is the point, the mainspring of the action.\n",
        "He is the hero on whom all the hopes\n",
        "of the Pándavas are pinned; the obstacle,\n",
        "above all others, the son of Dhritarashtra\n",
        "sees as blocking his road to victory.\n",
        "\n",
        "Arjuna has fought scores of bloody battles,\n",
        "exulting at the slaughter of enemies,\n",
        "threshing them like standing stooks of grain\n",
        "without regret, never looking back.\n",
        "He is the supreme kshátriya;\n",
        "the whole effort of his life is geared\n",
        "to heroism and glorious victory.\n",
        "But now he is unravelled by distress.\n",
        "He gazes at the rank on rank of kinsmen.\n",
        "They are so familiar – human, as he is.\n",
        "How to make them stranger to him than strangers?\n",
        "Death takes on new weight, sharper meaning.\n",
        "Whether this war brings victory or defeat\n",
        "there will be no occasion for rejoicing.\n",
        "\n",
        "Striking his brow, he cries aloud to Krishna,\n",
        "‘I will not fight! A kshátriya enters battle\n",
        "to preserve dharma.\n",
        "But how can it be right\n",
        "to kill our kinsmen, to coldly slaughter those\n",
        "who have nurtured, taught and grown with us?\n",
        "There is Drona, our dear teacher, and Bhishma,\n",
        "beloved grandfather to all of us.\n",
        "He looks so serene, full of resolve –\n",
        "has he not imagined how it will be\n",
        "to aim his arrows at the hearts of those\n",
        "joined to him by blood – who once were children\n",
        "gathered round, enraptured by his stories?\n",
        "\n",
        "‘Look at all our cousins standing there,\n",
        "sick with greed and anger – but, Krishna,\n",
        "even though they are blind to their own evil,\n",
        "even though they are desperate to kill us,\n",
        "how can we, who know dharma, do the same?\n",
        "I feel already the familiar heft\n",
        "of Gandíva, flexing to dispatch death\n",
        "at those I should protect, my kin – how can I\n",
        "cut them down as though they were rank weeds?’\n",
        "\n",
        "Krishna smiles, as at a foolish child.\n",
        "‘Son of Kunti, your doubts sound honourable\n",
        "but they spring from deep misunderstanding.\n",
        "You speak as if this life were all there is.\n",
        "But it is just one brief embodiment\n",
        "of the eternal soul, the indestructible.\n",
        "Bodies are born, they flourish, age, and die.\n",
        "But the soul, part of that greater spirit\n",
        "that infuses everything that exists,\n",
        "was never born, and cannot be killed.\n",
        "That soul, the witness of our every thought\n",
        "and action, persists from one life to the next;\n",
        "it sloughs off its old and out-worn body\n",
        "as one discards old clothes and puts on new.\n",
        "Wise people know this, and do not lament.\n",
        "\n",
        "‘From the perspective of eternal time,\n",
        "the undivided, everlasting present,\n",
        "those men you see lined up, eager for battle,\n",
        "full of the beauty of their youth and strength,\n",
        "are dead already.\n",
        "\n",
        "The bodies which have known cold and heat,\n",
        "pleasure and suffering, already carry\n",
        "death and decomposition in their bones.\n",
        "‘You need to understand, Arjuna,\n",
        "that in this life, nothing is permanent,\n",
        "nothing can be held, or truly owned.\n",
        "The individual ‘I’ a person clings to –\n",
        "the ego with a sense of past and future,\n",
        "furnished with intentions and memories –\n",
        "is simply an illusion. There is only\n",
        "an infinite procession of present moments.\n",
        "Time is the present,\n",
        "to be experienced, enjoyed, endured,\n",
        "misery and pleasure equally.\n",
        "Beings have mysterious origins.\n",
        "They emerge into the light, then disappear\n",
        "into shadow. Why should this cause grief?\n",
        "\n",
        "‘Within the framework of a single life\n",
        "each individual has their dharma,\n",
        "the path of right action they should follow,\n",
        "depending on the station they occupy.\n",
        "Your dharma is to fight. That is your purpose.\n",
        "You were born for this, and it is for this\n",
        "that praise-singers will extol your memory\n",
        "long after you are dead. Think. To refuse\n",
        "would lead to deep disgrace – people would say,\n",
        "“When it came to it, he was a coward.”\n",
        "What could be more miserable than that\n",
        "for a kshátriya? Fight as a warrior should\n",
        "and you cannot lose – either you are killed\n",
        "and go to heaven, or win and enjoy the kingdom.\n",
        "So get to your feet, scourge of your enemies,\n",
        "gather your strength, Arjuna, and fight!’\n",
        "\"\"\")"
      ],
      "metadata": {
        "colab": {
          "base_uri": "https://localhost:8080/"
        },
        "id": "mFGOL8bTjpR3",
        "outputId": "fb5eac5d-b9b9-4006-a228-828a8803264a"
      },
      "execution_count": 10,
      "outputs": [
        {
          "output_type": "stream",
          "name": "stdout",
          "text": [
            "As morning broke on the opening day of war,\n",
            "the rising sun (as Sánjaya described it\n",
            "to the king) streaked the sky with scarlet.\n",
            "The heat slowly burned off the mist that hung\n",
            "over the plain. The opposing armies,\n",
            "division upon division, stretched away\n",
            "as far as the eye followed the curving earth.\n",
            "All was brilliant. The chariots of the princes\n",
            "and all the royal allies were resplendent\n",
            "with noble banners, each with its own emblem.\n",
            "One king’s standard carried a scarlet bull,\n",
            "another, a boar on a cloth of silver,\n",
            "others, bright flowers, stars, eagles, comets…\n",
            "the sight too dazzling to be taken in.\n",
            "Some kings were riding in their chariots\n",
            "others sat erect on the necks of elephants\n",
            "or on spirited horses, proudly wheeling.\n",
            "\n",
            "So much armour, on elephants, horses, men!\n",
            "The flashing gold and bronze rivalled the sun.\n",
            "The close-packed troops and beasts, constantly moving,\n",
            "glittered like a river thick with fish.\n",
            "\n",
            "Both armies were terrible, both beautiful.\n",
            "In both, men’s hearts were filled with joy and pride\n",
            "at being part of it – this huge event,\n",
            "this grand spectacle, this sacrifice,\n",
            "this, the well-trained warrior’s highest calling.\n",
            "Fear, suffering and grief would follow later.\n",
            "\n",
            "With the two armies facing one another,\n",
            "one east, one west; with ten thousand conches\n",
            "blaring out in challenge, the din of cymbals\n",
            "and the deep, heart-stopping throb of war drums,\n",
            "Arjuna said to Krishna, his charioteer,\n",
            "‘Drive the chariot into no-man’s-land\n",
            "so I can see, before the battle starts,\n",
            "the faces of the enemy I must kill.’\n",
            "\n",
            "Krishna did what Arjuna asked of him.\n",
            "\n",
            "And there, with every soldier tense and ready,\n",
            "with every horse straining at its yoke;\n",
            "there, in the moment before hell’s unleashing,\n",
            "with each blade whetted, every weapon honed;\n",
            "there, in the moment when the frenzy\n",
            "of preparation is over, and the din\n",
            "of death not yet begun – there, at that point\n",
            "in the relentless passage of events…\n",
            "\n",
            "time freezes.\n",
            "\n",
            "Arjuna sinks down in his chariot.\n",
            "His warrior’s heart has failed him.\n",
            "His eyes stream with tears, his limbs tremble,\n",
            "the bow, Gandíva, drops from his nerveless hand.\n",
            "The world holds its breath.\n",
            "\n",
            "For Karna, Kunti, for his brothers,\n",
            "for Krishna – for each differently – Arjuna\n",
            "is the point, the mainspring of the action.\n",
            "He is the hero on whom all the hopes\n",
            "of the Pándavas are pinned; the obstacle,\n",
            "above all others, the son of Dhritarashtra\n",
            "sees as blocking his road to victory.\n",
            "\n",
            "Arjuna has fought scores of bloody battles,\n",
            "exulting at the slaughter of enemies,\n",
            "threshing them like standing stooks of grain\n",
            "without regret, never looking back.\n",
            "He is the supreme kshátriya;\n",
            "the whole effort of his life is geared\n",
            "to heroism and glorious victory.\n",
            "But now he is unravelled by distress.\n",
            "He gazes at the rank on rank of kinsmen.\n",
            "They are so familiar – human, as he is.\n",
            "How to make them stranger to him than strangers?\n",
            "Death takes on new weight, sharper meaning.\n",
            "Whether this war brings victory or defeat\n",
            "there will be no occasion for rejoicing.\n",
            "\n",
            "Striking his brow, he cries aloud to Krishna,\n",
            "‘I will not fight! A kshátriya enters battle\n",
            "to preserve dharma.\n",
            "But how can it be right\n",
            "to kill our kinsmen, to coldly slaughter those\n",
            "who have nurtured, taught and grown with us?\n",
            "There is Drona, our dear teacher, and Bhishma,\n",
            "beloved grandfather to all of us.\n",
            "He looks so serene, full of resolve –\n",
            "has he not imagined how it will be\n",
            "to aim his arrows at the hearts of those\n",
            "joined to him by blood – who once were children\n",
            "gathered round, enraptured by his stories?\n",
            "\n",
            "‘Look at all our cousins standing there,\n",
            "sick with greed and anger – but, Krishna,\n",
            "even though they are blind to their own evil,\n",
            "even though they are desperate to kill us,\n",
            "how can we, who know dharma, do the same?\n",
            "I feel already the familiar heft\n",
            "of Gandíva, flexing to dispatch death\n",
            "at those I should protect, my kin – how can I\n",
            "cut them down as though they were rank weeds?’\n",
            "\n",
            "Krishna smiles, as at a foolish child.\n",
            "‘Son of Kunti, your doubts sound honourable\n",
            "but they spring from deep misunderstanding.\n",
            "You speak as if this life were all there is.\n",
            "But it is just one brief embodiment\n",
            "of the eternal soul, the indestructible.\n",
            "Bodies are born, they flourish, age, and die.\n",
            "But the soul, part of that greater spirit\n",
            "that infuses everything that exists,\n",
            "was never born, and cannot be killed.\n",
            "That soul, the witness of our every thought\n",
            "and action, persists from one life to the next;\n",
            "it sloughs off its old and out-worn body\n",
            "as one discards old clothes and puts on new.\n",
            "Wise people know this, and do not lament.\n",
            "\n",
            "‘From the perspective of eternal time,\n",
            "the undivided, everlasting present,\n",
            "those men you see lined up, eager for battle,\n",
            "full of the beauty of their youth and strength,\n",
            "are dead already.\n",
            "\n",
            "The bodies which have known cold and heat,\n",
            "pleasure and suffering, already carry\n",
            "death and decomposition in their bones.\n",
            "‘You need to understand, Arjuna,\n",
            "that in this life, nothing is permanent,\n",
            "nothing can be held, or truly owned.\n",
            "The individual ‘I’ a person clings to –\n",
            "the ego with a sense of past and future,\n",
            "furnished with intentions and memories –\n",
            "is simply an illusion. There is only\n",
            "an infinite procession of present moments.\n",
            "Time is the present,\n",
            "to be experienced, enjoyed, endured,\n",
            "misery and pleasure equally.\n",
            "Beings have mysterious origins.\n",
            "They emerge into the light, then disappear\n",
            "into shadow. Why should this cause grief?\n",
            "\n",
            "‘Within the framework of a single life\n",
            "each individual has their dharma,\n",
            "the path of right action they should follow,\n",
            "depending on the station they occupy.\n",
            "Your dharma is to fight. That is your purpose.\n",
            "You were born for this, and it is for this\n",
            "that praise-singers will extol your memory\n",
            "long after you are dead. Think. To refuse\n",
            "would lead to deep disgrace – people would say,\n",
            "“When it came to it, he was a coward.”\n",
            "What could be more miserable than that\n",
            "for a kshátriya? Fight as a warrior should\n",
            "and you cannot lose – either you are killed\n",
            "and go to heaven, or win and enjoy the kingdom.\n",
            "So get to your feet, scourge of your enemies,\n",
            "gather your strength, Arjuna, and fight!’\n",
            "\n"
          ]
        }
      ]
    },
    {
      "cell_type": "markdown",
      "source": [
        "### write a program to input two number and swap them."
      ],
      "metadata": {
        "id": "vDrD8tCTjRSa"
      }
    },
    {
      "cell_type": "code",
      "source": [
        "a = int(input(\"enter the number: \"))\n",
        "b = int(input(\"enter the number: \"))\n",
        "print(f\"orginal number: {a}{b}\")\n",
        "print(f\"swap number: {b}{a}\")"
      ],
      "metadata": {
        "colab": {
          "base_uri": "https://localhost:8080/"
        },
        "id": "sJ8HJRgaj-qj",
        "outputId": "5c7b59a3-1794-446d-f0f4-8115b7efbd51"
      },
      "execution_count": 11,
      "outputs": [
        {
          "output_type": "stream",
          "name": "stdout",
          "text": [
            "enter the number: 3\n",
            "enter the number: 5\n",
            "orginal number: 35\n",
            "swap number: 53\n"
          ]
        }
      ]
    },
    {
      "cell_type": "markdown",
      "source": [
        "### WRITE A PROGRAM TO INPUT THREE NUMBERS AND SWAP THEM AS THIS: 1st NUMBER BECOMES THE 2nd NUMBER, 2nd number becomes the 3rd number becomes the first number."
      ],
      "metadata": {
        "id": "C5dR4bqdm10-"
      }
    },
    {
      "cell_type": "code",
      "source": [
        "x = int(input(\"enter number 1: \"))\n",
        "y = int(input(\"enter number 2: \"))\n",
        "z = int(input(\"enter number 3: \"))\n",
        "print(\"original number: \",x,y,z)\n",
        "x,y,z = y,z,x\n",
        "print(\"after swapping:\",x,y,z)"
      ],
      "metadata": {
        "colab": {
          "base_uri": "https://localhost:8080/"
        },
        "id": "ytwNRWu12ooy",
        "outputId": "696e0702-00cc-44ae-b463-7258d64ec023"
      },
      "execution_count": 13,
      "outputs": [
        {
          "output_type": "stream",
          "name": "stdout",
          "text": [
            "enter number 1: 6\n",
            "enter number 2: 11\n",
            "enter number 3: 9\n",
            "original number:  6 11 9\n",
            "after swapping: 11 9 6\n"
          ]
        }
      ]
    },
    {
      "cell_type": "markdown",
      "source": [],
      "metadata": {
        "id": "2sHZ5cYZ4xbb"
      }
    }
  ]
}